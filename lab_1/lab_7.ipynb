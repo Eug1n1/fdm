{
 "cells": [
  {
   "cell_type": "code",
   "execution_count": 1,
   "id": "3e9d3cfb-c550-4730-8651-76fc407bbc1f",
   "metadata": {
    "tags": []
   },
   "outputs": [
    {
     "name": "stdout",
     "output_type": "stream",
     "text": [
      "Частоты признаков:\n",
      "{0: array([0, 1, 0, 2]), 1: array([2, 0, 2, 1])}\n",
      "[[0 0 0 1]]\n",
      "[0]\n",
      "Классификатор MultinomialNB\n",
      "[[2 4 4 0 3 3 0 3 1 0 2 2 2 0 2 1 4 0 4 4 1 3 1 4 1 2 1 0 0 2 4 1 0 0 3 1\n",
      "  0 4 3 2 3 4 4 3 0 0 0 4 1 4 1 2 2 4 3 4 4 0 3 2 4 3 4 2 3 0 2 1 3 2 0 1\n",
      "  4 1 3 3 1 2 0 2 4 0 2 4 3 4 3 0 4 2 2 4 1 2 1 1 1 0 4 4]]\n",
      "[3]\n",
      "Классификатор GaussianNB\n",
      "[[-0.8, -1]]\n",
      "[1]\n",
      "Классификатор GaussianNB\n",
      "[[-0.8, -1]]\n",
      "[1]\n"
     ]
    }
   ],
   "source": [
    "import mglearn\n",
    "import sklearn\n",
    "import matplotlib.pyplot as plt\n",
    "import numpy as np\n",
    "from sklearn.naive_bayes import GaussianNB\n",
    "from sklearn.naive_bayes import BernoulliNB\n",
    "from sklearn.naive_bayes import MultinomialNB\n",
    "\n",
    "# Классификатор BernoulliNB\n",
    "X = np.array([[0, 1, 0, 1], [1, 0, 1, 1], [0, 0, 0, 1], [1, 0, 1, 0]])\n",
    "y = np.array([0, 1, 0, 1])\n",
    "\n",
    "counts = {}\n",
    "for label in np.unique(y):\n",
    "    counts[label] = X[y == label].sum(axis=0)\n",
    "print(\"Частоты признаков:\\n{}\".format(counts))\n",
    "\n",
    "clf = BernoulliNB()\n",
    "clf.fit(X, y)\n",
    "print(X[2:3])\n",
    "print(clf.predict(X[2:3]))\n",
    "\n",
    "# Классификатор MultinomialNB\n",
    "rng = np.random.RandomState(1)\n",
    "X = rng.randint(5, size=(6, 100))\n",
    "y = np.array([1, 2, 3, 4, 5, 6])\n",
    "\n",
    "clf = MultinomialNB()\n",
    "clf.fit(X, y)\n",
    "\n",
    "print('Классификатор MultinomialNB')\n",
    "print(X[2:3])\n",
    "print(clf.predict(X[2:3]))\n",
    "\n",
    "# Классификатор GaussianNB\n",
    "X = np.array([[-1, -1], [-2, -1], [-3, -2], [1, 1], [2, 1], [3, 2]])\n",
    "Y = np.array([1, 1, 1, 2, 2, 2])\n",
    "clf = GaussianNB()\n",
    "clf.fit(X, Y)\n",
    "\n",
    "print('Классификатор GaussianNB')\n",
    "print([[-0.8, -1]])\n",
    "print(clf.predict([[-0.8, -1]]))\n",
    "\n",
    "clf_pf = GaussianNB()\n",
    "clf_pf.partial_fit(X, Y, np.unique(Y))\n",
    "\n",
    "print('Классификатор GaussianNB')\n",
    "print([[-0.8, -1]])\n",
    "print(clf_pf.predict([[-0.8, -1]]))"
   ]
  },
  {
   "cell_type": "code",
   "execution_count": null,
   "id": "59f0f073-2c7d-4f6c-9241-f5888458cfdf",
   "metadata": {},
   "outputs": [],
   "source": []
  }
 ],
 "metadata": {
  "kernelspec": {
   "display_name": "Python 3 (ipykernel)",
   "language": "python",
   "name": "python3"
  },
  "language_info": {
   "codemirror_mode": {
    "name": "ipython",
    "version": 3
   },
   "file_extension": ".py",
   "mimetype": "text/x-python",
   "name": "python",
   "nbconvert_exporter": "python",
   "pygments_lexer": "ipython3",
   "version": "3.9.16"
  }
 },
 "nbformat": 4,
 "nbformat_minor": 5
}
