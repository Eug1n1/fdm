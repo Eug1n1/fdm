{
 "cells": [
  {
   "cell_type": "code",
   "execution_count": 3,
   "id": "a788f547-4062-40e0-91e8-a968babe8984",
   "metadata": {
    "tags": []
   },
   "outputs": [
    {
     "name": "stdout",
     "output_type": "stream",
     "text": [
      "версия Python: 3.9.16 (main, Feb 21 2023, 14:25:49) \n",
      "[GCC 12.2.1 20230201]\n",
      "версия pandas: 1.3.3\n",
      "версия matplotlib: 3.6.3\n",
      "версия NumPy: 1.19.0\n",
      "версия SciPy: 1.9.3\n",
      "версия IPython: 8.9.0\n",
      "версия scikit-learn: 1.1.3\n"
     ]
    }
   ],
   "source": [
    "import sys\n",
    "import pandas\n",
    "import matplotlib\n",
    "import numpy\n",
    "import scipy\n",
    "import IPython\n",
    "import sklearn\n",
    "import mglearn\n",
    "\n",
    "print(\"версия Python: {}\".format(sys.version))\n",
    "print(\"версия pandas: {}\".format(pandas.__version__))\n",
    "print(\"версия matplotlib: {}\".format(matplotlib.__version__))\n",
    "print(\"версия NumPy: {}\".format(numpy.__version__))\n",
    "print(\"версия SciPy: {}\".format(scipy.__version__))\n",
    "print(\"версия IPython: {}\".format(IPython.__version__))\n",
    "print(\"версия scikit-learn: {}\".format(sklearn.__version__))\n",
    "print(\"версия mglearn: {}\".format(sklearn.__version__))"
   ]
  },
  {
   "cell_type": "code",
   "execution_count": null,
   "id": "a4b7a1f3-3879-4861-b4d0-e023a1db4138",
   "metadata": {},
   "outputs": [],
   "source": []
  }
 ],
 "metadata": {
  "kernelspec": {
   "display_name": "Python 3 (ipykernel)",
   "language": "python",
   "name": "python3"
  },
  "language_info": {
   "codemirror_mode": {
    "name": "ipython",
    "version": 3
   },
   "file_extension": ".py",
   "mimetype": "text/x-python",
   "name": "python",
   "nbconvert_exporter": "python",
   "pygments_lexer": "ipython3",
   "version": "3.9.16"
  }
 },
 "nbformat": 4,
 "nbformat_minor": 5
}
